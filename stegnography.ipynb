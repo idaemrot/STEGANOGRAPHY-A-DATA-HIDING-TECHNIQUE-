{
 "cells": [
  {
   "cell_type": "code",
   "execution_count": 19,
   "id": "5d1a5fa6-ea9e-4d05-8e79-0ceb4e4750a6",
   "metadata": {},
   "outputs": [],
   "source": [
    "import numpy as np\n",
    "import pandas as pand\n",
    "import os\n",
    "import cv2\n",
    "from matplotlib import pyplot as plt"
   ]
  },
  {
   "cell_type": "code",
   "execution_count": 47,
   "id": "1e638fd8-0fdf-4770-b5a7-62ba4c1b1d34",
   "metadata": {},
   "outputs": [],
   "source": [
    "def encode_txt_data():\n",
    "    count2=0\n",
    "    file1 = open(r\"C:\\Users\\Admin\\Desktop\\gpcssi 24\\stano/cover_text.txt\",\"r\")\n",
    "    for line in file1: \n",
    "        for word in line.split():\n",
    "            count2=count2+1\n",
    "    file1.close()       \n",
    "    bt=int(count2)\n",
    "    print(\"Maximum number of words that can be inserted :- \",int(bt/6))\n",
    "    text1=input(\"\\nEnter data to be encoded:- \")\n",
    "    l=len(text1)\n",
    "    if(l<=bt):\n",
    "        print(\"\\nInputed message can be hidden in the cover file\\n\")\n",
    "        txt_encode(text1)\n",
    "    else:\n",
    "        print(\"\\nString is too big please reduce string size\")\n",
    "        encode_txt_data()"
   ]
  },
  {
   "cell_type": "code",
   "execution_count": 21,
   "id": "b3a1e06a-e6cb-43ec-8cd4-5737ba444e60",
   "metadata": {},
   "outputs": [],
   "source": [
    "\n",
    "def BinaryToDecimal(binary):\n",
    "    string = int(binary, 2)\n",
    "    return string\n"
   ]
  },
  {
   "cell_type": "code",
   "execution_count": 22,
   "id": "1ab624bd-e434-4aee-a766-34ef3612b2cb",
   "metadata": {},
   "outputs": [],
   "source": [
    "def decode_txt_data():\n",
    "    ZWC_reverse={u'\\u200C':\"00\",u'\\u202C':\"01\",u'\\u202D':\"11\",u'\\u200E':\"10\"}\n",
    "    stego=input(\"\\nPlease enter the stego file name(with extension) to decode the message:- \")\n",
    "    file4= open(stego,\"r\", encoding=\"utf-8\")\n",
    "    temp=''\n",
    "    for line in file4: \n",
    "        for words in line.split():\n",
    "            T1=words\n",
    "            binary_extract=\"\"\n",
    "            for letter in T1:\n",
    "                if(letter in ZWC_reverse):\n",
    "                     binary_extract+=ZWC_reverse[letter]\n",
    "            if binary_extract==\"111111111111\":\n",
    "                break\n",
    "            else:\n",
    "                temp+=binary_extract\n",
    "    print(\"\\nEncrypted message presented in code bits:\",temp) \n",
    "    lengthd = len(temp)\n",
    "    print(\"\\nLength of encoded bits:- \",lengthd)\n",
    "    i=0\n",
    "    a=0\n",
    "    b=4\n",
    "    c=4\n",
    "    d=12\n",
    "    final=''\n",
    "    while i<len(temp):\n",
    "        t3=temp[a:b]\n",
    "        a+=12\n",
    "        b+=12\n",
    "        i+=12\n",
    "        t4=temp[c:d]\n",
    "        c+=12\n",
    "        d+=12\n",
    "        if(t3=='0110'):\n",
    "            decimal_data = BinaryToDecimal(t4)\n",
    "            final+=chr((decimal_data ^ 170) + 48)\n",
    "        elif(t3=='0011'):\n",
    "            decimal_data = BinaryToDecimal(t4)\n",
    "            final+=chr((decimal_data ^ 170) - 48)\n",
    "    print(\"\\nMessage after decoding from the stego file:- \",final)"
   ]
  },
  {
   "cell_type": "code",
   "execution_count": 23,
   "id": "8dafa055-adf4-4335-9a18-0558a91944ae",
   "metadata": {},
   "outputs": [],
   "source": [
    "def txt_steg():\n",
    "    while True:\n",
    "        print(\"\\n\\t\\tTEXT STEGANOGRAPHY OPERATIONS\") \n",
    "        print(\"1. Encode the Text message\")  \n",
    "        print(\"2. Decode the Text message\")  \n",
    "        print(\"3. Exit\")  \n",
    "        choice1 = int(input(\"Enter the Choice:\"))   \n",
    "        if choice1 == 1:\n",
    "            encode_txt_data()\n",
    "        elif choice1 == 2:\n",
    "            decrypted=decode_txt_data() \n",
    "        elif choice1 == 3:\n",
    "            break\n",
    "        else:\n",
    "            print(\"Incorrect Choice\")\n",
    "        print(\"\\n\")\n"
   ]
  },
  {
   "cell_type": "code",
   "execution_count": 24,
   "id": "7546e6a4-ce7f-4c88-b83a-c5b811f82d64",
   "metadata": {},
   "outputs": [],
   "source": [
    "def msgtobinary(msg):\n",
    "    if type(msg) == str:\n",
    "        result= ''.join([ format(ord(i), \"08b\") for i in msg ])\n",
    "    \n",
    "    elif type(msg) == bytes or type(msg) == np.ndarray:\n",
    "        result= [ format(i, \"08b\") for i in msg ]\n",
    "    \n",
    "    elif type(msg) == int or type(msg) == np.uint8:\n",
    "        result=format(msg, \"08b\")\n",
    "\n",
    "    else:\n",
    "        raise TypeError(\"Input type is not supported in this function\")\n",
    "    \n",
    "    return result"
   ]
  },
  {
   "cell_type": "code",
   "execution_count": 25,
   "id": "a62194b5-81a3-42e8-884b-a0001fc32176",
   "metadata": {},
   "outputs": [],
   "source": [
    "def encode_img_data(img):\n",
    "    data=input(\"\\nEnter the data to be Encoded in Image :\")    \n",
    "    if (len(data) == 0): \n",
    "        raise ValueError('Data entered to be encoded is empty')\n",
    "  \n",
    "    nameoffile = input(\"\\nEnter the name of the New Image (Stego Image) after Encoding(with extension):\")\n",
    "    \n",
    "    no_of_bytes=(img.shape[0] * img.shape[1] * 3) // 8\n",
    "    \n",
    "    print(\"\\t\\nMaximum bytes to encode in Image :\", no_of_bytes)\n",
    "    \n",
    "    if(len(data)>no_of_bytes):\n",
    "        raise ValueError(\"Insufficient bytes Error, Need Bigger Image or give Less Data !!\")\n",
    "    \n",
    "    data +='*^*^*'    \n",
    "    \n",
    "    binary_data=msgtobinary(data)\n",
    "    print(\"\\n\")\n",
    "    print(binary_data)\n",
    "    length_data=len(binary_data)\n",
    "    \n",
    "    print(\"\\nThe Length of Binary data\",length_data)\n",
    "    \n",
    "    index_data = 0\n",
    "    \n",
    "    for i in img:\n",
    "        for pixel in i:\n",
    "            r, g, b = msgtobinary(pixel)\n",
    "            if index_data < length_data:\n",
    "                pixel[0] = int(r[:-1] + binary_data[index_data], 2) \n",
    "                index_data += 1\n",
    "            if index_data < length_data:\n",
    "                pixel[1] = int(g[:-1] + binary_data[index_data], 2) \n",
    "                index_data += 1\n",
    "            if index_data < length_data:\n",
    "                pixel[2] = int(b[:-1] + binary_data[index_data], 2) \n",
    "                index_data += 1\n",
    "            if index_data >= length_data:\n",
    "                break\n",
    "    cv2.imwrite(nameoffile,img)\n",
    "    print(\"\\nEncoded the data successfully in the Image and the image is \n",
    "    successfully saved with name \",nameoffile)\n"
   ]
  },
  {
   "cell_type": "code",
   "execution_count": 26,
   "id": "162233bb-2fca-421c-8323-8ea34e49bb80",
   "metadata": {},
   "outputs": [],
   "source": [
    "\n",
    "def encode_img_data(img):\n",
    "    data=input(\"\\nEnter the data to be Encoded in Image :\")    \n",
    "    if (len(data) == 0): \n",
    "        raise ValueError('Data entered to be encoded is empty')\n",
    "  \n",
    "    nameoffile = input(\"\\nEnter the name of the New Image (Stego Image) after Encoding(with extension):\")\n",
    "    \n",
    "    no_of_bytes=(img.shape[0] * img.shape[1] * 3) // 8\n",
    "    \n",
    "    print(\"\\t\\nMaximum bytes to encode in Image :\", no_of_bytes)\n",
    "    \n",
    "    if(len(data)>no_of_bytes):\n",
    "        raise ValueError(\"Insufficient bytes Error, Need Bigger Image or give Less Data !!\")\n",
    "    \n",
    "    data +='*^*^*'    \n",
    "    \n",
    "    binary_data=msgtobinary(data)\n",
    "    print(\"\\n\")\n",
    "    print(binary_data)\n",
    "    length_data=len(binary_data)\n",
    "    \n",
    "    print(\"\\nThe Length of Binary data\",length_data)\n",
    "    \n",
    "    index_data = 0\n",
    "    \n",
    "    for i in img:\n",
    "        for pixel in i:\n",
    "            r, g, b = msgtobinary(pixel)\n",
    "            if index_data < length_data:\n",
    "                pixel[0] = int(r[:-1] + binary_data[index_data], 2) \n",
    "                index_data += 1\n",
    "            if index_data < length_data:\n",
    "                pixel[1] = int(g[:-1] + binary_data[index_data], 2) \n",
    "                index_data += 1\n",
    "            if index_data < length_data:\n",
    "                pixel[2] = int(b[:-1] + binary_data[index_data], 2) \n",
    "                index_data += 1\n",
    "            if index_data >= length_data:\n",
    "                break\n",
    "    cv2.imwrite(nameoffile,img)\n",
    "    print(\"\\nEncoded the data successfully in the Image and the image is successfully saved with name \",nameoffile)\n",
    "\n"
   ]
  },
  {
   "cell_type": "code",
   "execution_count": 50,
   "id": "4cf4897a-d386-4332-99c2-cab55781a920",
   "metadata": {},
   "outputs": [],
   "source": [
    "def decode_img_data(img):\n",
    "    data_binary = \"\"\n",
    "    for i in img:\n",
    "        for pixel in i:\n",
    "            r, g, b = msgtobinary(pixel) \n",
    "            data_binary += r[-1]  \n",
    "            data_binary += g[-1]  \n",
    "            data_binary += b[-1]  \n",
    "            total_bytes = [ data_binary[i: i+8] for i in range(0, len(data_binary), 8) ]\n",
    "            decoded_data = \"\"\n",
    "            for byte in total_bytes:\n",
    "                decoded_data += chr(int(byte, 2))\n",
    "                if decoded_data[-5:] == \"*^*^*\": \n",
    "                    print(\"\\n\\nThe Encoded data which was hidden in \"\"the Image was :--  \",decoded_data[:-5])\n",
    "                    return \n"
   ]
  },
  {
   "cell_type": "code",
   "execution_count": 51,
   "id": "eb58bd3d-b636-4eaa-871c-73c12a1734ca",
   "metadata": {},
   "outputs": [],
   "source": [
    "def img_steg():\n",
    "    while True:\n",
    "        print(\"\\n\\t\\tIMAGE STEGANOGRAPHY OPERATIONS\\n\") \n",
    "        print(\"1. Encode the Text message\") \n",
    "        print(\"2. Decode the Text message\") \n",
    "        print(\"3. Exit\")  \n",
    "        choice1 = int(input(\"Enter the Choice: \"))   \n",
    "        if choice1 == 1:\n",
    "            image=cv2.imread(r\"C:\\Users\\Admin\\Desktop\\gpcssi 24\\stano/cover_image.jpg\")\n",
    "            encode_img_data(image)\n",
    "        elif choice1 == 2:\n",
    "            image1=cv2.imread(input(\"Enter the Image you need to Decode to get the Secret message :  \"))\n",
    "            decode_img_data(image1)\n",
    "        elif choice1 == 3:\n",
    "            break\n",
    "        else:\n",
    "            print(\"Incorrect Choice\")\n",
    "        print(\"\\n\")\n"
   ]
  },
  {
   "cell_type": "code",
   "execution_count": 52,
   "id": "4b0d57b6-df3f-4082-bfb7-9d081dbff65a",
   "metadata": {},
   "outputs": [],
   "source": [
    "import wave\n",
    "\n",
    "def encode_aud_data():\n",
    "    nameoffile = input(\"Enter name of the WAV file (with extension): \")\n",
    "    try:\n",
    "        song = wave.open(nameoffile, mode='rb')\n",
    "    except FileNotFoundError:\n",
    "        print(f\"Error: File '{nameoffile}' not found.\")\n",
    "        return\n",
    "    frames = song.readframes(song.getnframes())\n",
    "    frame_bytes = bytearray(frames)\n",
    "\n",
    "    data = input(\"\\nEnter the secret message to encode: \")\n",
    "    binary_message = ''.join(format(ord(char), '08b') for char in data)\n",
    "    binary_message += '*^*^*'  \n",
    "    idx = 0\n",
    "    for bit in binary_message:\n",
    "        if idx >= len(frame_bytes):\n",
    "            break\n",
    "        byte = frame_bytes[idx]\n",
    "        new_byte = (byte & 254) | int(bit)\n",
    "        frame_bytes[idx] = new_byte\n",
    "        idx += 1\n",
    "    stegofile = input(\"\\nEnter name of the stego WAV file (with extension): \")\n",
    "    with wave.open(stegofile, 'wb') as fd:\n",
    "        fd.setparams(song.getparams())\n",
    "        fd.writeframes(frame_bytes)\n",
    "    print(\"\\nEncoded the data successfully in the audio file.\")\n",
    "    song.close()\n"
   ]
  },
  {
   "cell_type": "code",
   "execution_count": 53,
   "id": "84ff67d5-eae8-4a9c-aaf0-43b44137766b",
   "metadata": {},
   "outputs": [],
   "source": [
    "import wave\n",
    "\n",
    "def decode_aud_data():\n",
    "    nameoffile = input(\"Enter name of the WAV file to be decoded (with extension): \")\n",
    "    try:\n",
    "        song = wave.open(nameoffile, mode='rb')\n",
    "    except FileNotFoundError:\n",
    "        print(f\"Error: File '{nameoffile}' not found.\")\n",
    "        return\n",
    "    frames = song.readframes(song.getnframes())\n",
    "    frame_bytes = bytearray(frames)\n",
    "    extracted = \"\"\n",
    "    message_found = False\n",
    "    idx = 0\n",
    "    while idx < len(frame_bytes):\n",
    "        byte = frame_bytes[idx]\n",
    "        extracted_bit = byte & 1\n",
    "        extracted += str(extracted_bit)\n",
    "        if extracted.endswith('*^*^*'):\n",
    "            message_found = True\n",
    "            break\n",
    "        idx += 1\n",
    "    if message_found:\n",
    "        extracted_message = ''.join([chr(int(extracted[i:i+8], 2)) for i in range(0, len(extracted)-5, 8)])\n",
    "        print(\"\\nThe encoded data hidden in the audio file is:\\n\", extracted_message)\n",
    "    else:\n",
    "        print(\"\\nNo hidden message found in the audio file.\")\n",
    "\n",
    "    song.close()\n"
   ]
  },
  {
   "cell_type": "code",
   "execution_count": 54,
   "id": "d310764d-f339-4b1d-8bb3-a308a47c7f2b",
   "metadata": {},
   "outputs": [],
   "source": [
    "\n",
    "def aud_steg():\n",
    "    while True:\n",
    "        print(\"\\n\\t AUDIO STEGANOGRAPHY OPERATIONS\") \n",
    "        print(\"1. Encode a secret message into PCM audio file\")  \n",
    "        print(\"2. Decode a secret message from PCM audio file\")  \n",
    "        print(\"3. Exit\")  \n",
    "        choice = int(input(\"Enter your choice: \"))   \n",
    "        \n",
    "        if choice == 1:\n",
    "            encode_aud_data()\n",
    "        elif choice == 2:\n",
    "            decode_aud_data()\n",
    "        elif choice == 3:\n",
    "            break\n",
    "        else:\n",
    "            print(\"Incorrect choice. Please enter 1, 2, or 3.\")\n",
    "\n"
   ]
  },
  {
   "cell_type": "code",
   "execution_count": 55,
   "id": "f62a0a33-5e95-4fc9-815f-ab6fb7899f6b",
   "metadata": {},
   "outputs": [],
   "source": [
    "def KSA(key):\n",
    "    key_length = len(key)\n",
    "    S=list(range(256)) \n",
    "    j=0\n",
    "    for i in range(256):\n",
    "        j=(j+S[i]+key[i % key_length]) % 256\n",
    "        S[i],S[j]=S[j],S[i]\n",
    "    return S\n"
   ]
  },
  {
   "cell_type": "code",
   "execution_count": 56,
   "id": "a0f2e6b7-3645-402b-adac-d51e268c37d7",
   "metadata": {},
   "outputs": [],
   "source": [
    "def PRGA(S,n):\n",
    "    i=0\n",
    "    j=0\n",
    "    key=[]\n",
    "    while n>0:\n",
    "        n=n-1\n",
    "        i=(i+1)%256\n",
    "        j=(j+S[i])%256\n",
    "        S[i],S[j]=S[j],S[i]\n",
    "        K=S[(S[i]+S[j])%256]\n",
    "        key.append(K)\n",
    "    return key\n"
   ]
  },
  {
   "cell_type": "code",
   "execution_count": 34,
   "id": "e850e501-ee4f-4280-8102-8afdf9f6bd8b",
   "metadata": {},
   "outputs": [],
   "source": [
    "def preparing_key_array(s):\n",
    "    return [ord(c) for c in s]"
   ]
  },
  {
   "cell_type": "code",
   "execution_count": 57,
   "id": "25cd2da9-9aef-4cb3-bfa1-cee0b0d7a9bc",
   "metadata": {},
   "outputs": [],
   "source": [
    "def encryption(plaintext):\n",
    "    print(\"Enter the key : \")\n",
    "    key=input()\n",
    "    key=preparing_key_array(key)\n",
    "\n",
    "    S=KSA(key)\n",
    "\n",
    "    keystream=np.array(PRGA(S,len(plaintext)))\n",
    "    plaintext=np.array([ord(i) for i in plaintext])\n",
    "\n",
    "    cipher=keystream^plaintext\n",
    "    ctext=''\n",
    "    for c in cipher:\n",
    "        ctext=ctext+chr(c)\n",
    "    return ctext"
   ]
  },
  {
   "cell_type": "code",
   "execution_count": 36,
   "id": "cff3c83e-b7e7-41aa-bdc2-35b1cc4fc4d4",
   "metadata": {},
   "outputs": [],
   "source": [
    "def decryption(ciphertext):\n",
    "    print(\"Enter the key : \")\n",
    "    key=input()\n",
    "    key=preparing_key_array(key)\n",
    "\n",
    "    S=KSA(key)\n",
    "\n",
    "    keystream=np.array(PRGA(S,len(ciphertext)))\n",
    "    ciphertext=np.array([ord(i) for i in ciphertext])\n",
    "\n",
    "    decoded=keystream^ciphertext\n",
    "    dtext=''\n",
    "    for c in decoded:\n",
    "        dtext=dtext+chr(c)\n",
    "    return dtext\n",
    "\n"
   ]
  },
  {
   "cell_type": "code",
   "execution_count": 59,
   "id": "c42d732e-1464-4d02-8d54-af6fdff28b29",
   "metadata": {},
   "outputs": [],
   "source": [
    "def embed(frame):\n",
    "    data=input(\"\\nEnter the data to be Encoded in Video :\") \n",
    "    data=encryption(data)\n",
    "    print(\"The encrypted data is : \",data)\n",
    "    if (len(data) == 0): \n",
    "        raise ValueError('Data entered to be encoded is empty')\n",
    "    data +='*^*^*'\n",
    "    binary_data=msgtobinary(data)\n",
    "    length_data = len(binary_data)\n",
    "    \n",
    "    index_data = 0    \n",
    "    for i in frame:\n",
    "        for pixel in i:\n",
    "            r, g, b = msgtobinary(pixel)\n",
    "            if index_data < length_data:\n",
    "                pixel[0] = int(r[:-1] + binary_data[index_data], 2) \n",
    "                index_data += 1\n",
    "            if index_data < length_data:\n",
    "                pixel[1] = int(g[:-1] + binary_data[index_data], 2) \n",
    "                index_data += 1\n",
    "            if index_data < length_data:\n",
    "                pixel[2] = int(b[:-1] + binary_data[index_data], 2) \n",
    "                index_data += 1\n",
    "            if index_data >= length_data:\n",
    "                break\n",
    "        return frame\n"
   ]
  },
  {
   "cell_type": "code",
   "execution_count": 63,
   "id": "fb048080-3c8d-416e-a4cc-1906cd220631",
   "metadata": {},
   "outputs": [],
   "source": [
    "def extract(frame):\n",
    "    if frame is None:\n",
    "        print(\"Error: Frame object is None. Cannot proceed with extraction.\")\n",
    "        return\n",
    "    data_binary = \"\"\n",
    "    final_decoded_msg = \"\"\n",
    "    \n",
    "    for i in frame:\n",
    "        if i is None:\n",
    "            continue          \n",
    "        for pixel in i:\n",
    "            r, g, b = msgtobinary(pixel) \n",
    "            data_binary += r[-1]  \n",
    "            data_binary += g[-1]  \n",
    "            data_binary += b[-1]  \n",
    "            \n",
    "            total_bytes = [ data_binary[i: i+8] for i in range(0, len(data_binary), 8) ]\n",
    "            decoded_data = \"\"            \n",
    "            for byte in total_bytes:\n",
    "                decoded_data += chr(int(byte, 2))\n",
    "                if decoded_data[-5:] == \"*^*^*\": \n",
    "                    for i in range(0, len(decoded_data) - 5):\n",
    "                        final_decoded_msg += decoded_data[i]\n",
    "                    \n",
    "                    final_decoded_msg = decryption(final_decoded_msg)\n",
    "                    print(\"\\n\\nThe Encoded data which was hidden in the Video was :--\\n\", final_decoded_msg)\n",
    "                    return\n",
    "\n"
   ]
  },
  {
   "cell_type": "code",
   "execution_count": 64,
   "id": "4447ae90-7704-44be-a443-1005741f7f77",
   "metadata": {},
   "outputs": [],
   "source": [
    "def encode_vid_data():\n",
    "    cap=cv2.VideoCapture(r\"C:\\Users\\Admin\\Desktop\\gpcssi 24\\stano/cover_video.mp4\")\n",
    "    vidcap = cv2.VideoCapture(r\"C:\\Users\\Admin\\Desktop\\gpcssi 24\\stano/cover_video.mp4\")    \n",
    "    fourcc = cv2.VideoWriter_fourcc(*'XVID')\n",
    "    frame_width = int(vidcap.get(3))\n",
    "    frame_height = int(vidcap.get(4))\n",
    "    size = (frame_width, frame_height)\n",
    "    out = cv2.VideoWriter('stego_video.mp4',fourcc, 25.0, size)\n",
    "    max_frame=0;\n",
    "    while(cap.isOpened()):\n",
    "        ret, frame = cap.read()\n",
    "        if ret == False:\n",
    "            break\n",
    "        max_frame+=1\n",
    "    cap.release()\n",
    "    print(\"Total number of Frame in selected Video :\",max_frame)\n",
    "    print(\"Enter the frame number where you want to embed data : \")\n",
    "    n=int(input())\n",
    "    frame_number = 0\n",
    "    while(vidcap.isOpened()):\n",
    "        frame_number += 1\n",
    "        ret, frame = vidcap.read()\n",
    "        if ret == False:\n",
    "            break\n",
    "        if frame_number == n:    \n",
    "            change_frame_with = embed(frame)\n",
    "            frame_ = change_frame_with\n",
    "            frame = change_frame_with\n",
    "        out.write(frame)    \n",
    "    print(\"\\nEncoded the data successfully in the video file.\")\n",
    "    return frame_"
   ]
  },
  {
   "cell_type": "code",
   "execution_count": 65,
   "id": "98a84e76-e058-4b54-be20-a00f570cadce",
   "metadata": {},
   "outputs": [],
   "source": [
    "def decode_vid_data(frame_):\n",
    "    cap = cv2.VideoCapture('stego_video.mp4')\n",
    "    max_frame=0;\n",
    "    while(cap.isOpened()):\n",
    "        ret, frame = cap.read()\n",
    "        if ret == False:\n",
    "            break\n",
    "        max_frame+=1\n",
    "    print(\"Total number of Frame in selected Video :\",max_frame)\n",
    "    print(\"Enter the secret frame number from where you want to extract data\")\n",
    "    n=int(input())\n",
    "    vidcap = cv2.VideoCapture('stego_video.mp4')\n",
    "    frame_number = 0\n",
    "    while(vidcap.isOpened()):\n",
    "        frame_number += 1\n",
    "        ret, frame = vidcap.read()\n",
    "        if ret == False:\n",
    "            break\n",
    "        if frame_number == n:\n",
    "            extract(frame_)\n",
    "            return\n"
   ]
  },
  {
   "cell_type": "code",
   "execution_count": 66,
   "id": "cb5fe291-1d0e-4af6-8983-ef3063f2da7f",
   "metadata": {},
   "outputs": [],
   "source": [
    "def vid_steg():\n",
    "    e=encode_vid_data()\n",
    "    while True:\n",
    "        print(\"\\n\\t\\tVIDEO STEGANOGRAPHY OPERATIONS\") \n",
    "        print(\"1. Encode the Text message\")  \n",
    "        print(\"2. Decode the Text message\")  \n",
    "        print(\"3. Exit\")  \n",
    "        choice1 = int(input(\"Enter the Choice:\"))   \n",
    "        if choice1 == 1:\n",
    "            encode_vid_data()\n",
    "        elif choice1 == 2:\n",
    "            decode_vid_data(e)\n",
    "        elif choice1 == 3:\n",
    "            break\n",
    "        else:\n",
    "            print(\"Incorrect Choice\")\n",
    "        print(\"\\n\")"
   ]
  },
  {
   "cell_type": "code",
   "execution_count": 48,
   "id": "c8c505a4-8792-456b-b9e9-4fffe2880a75",
   "metadata": {},
   "outputs": [],
   "source": [
    "def main():\n",
    "    print(\"\\t\\t      STEGANOGRAPHY\")   \n",
    "    while True:  \n",
    "        print(\"\\n\\t\\t\\tMAIN MENU\\n\")  \n",
    "        print(\"1. TEXT STEGANOGRAPHY {Hiding Text in Text cover file}\")  \n",
    "        print(\"2. IMAGE STEGANOGRAPHY {Hiding Text in Image cover file}\")  \n",
    "        print(\"3. AUDIO STEGANOGRAPHY {Hiding Text in Audio cover file}\")\n",
    "        print(\"4. VIDEO STEGANOGRAPHY {Hiding Text in Video cover file}\")\n",
    "        print(\"5. Exit\\n\")  \n",
    "        choice1 = int(input(\"Enter the Choice: \"))   \n",
    "        if choice1 == 1:\n",
    "            txt_steg()\n",
    "        elif choice1 == 2:\n",
    "            img_steg()\n",
    "        elif choice1 == 3:\n",
    "            aud_steg()\n",
    "        elif choice1 == 4:\n",
    "            vid_steg()\n",
    "        elif choice1 == 5:\n",
    "            break\n",
    "        else:\n",
    "            print(\"Incorrect Choice\")\n",
    "        print(\"\\n\\n\")"
   ]
  },
  {
   "cell_type": "code",
   "execution_count": null,
   "id": "59a39e4e-81fc-409e-b267-e3a852fee21c",
   "metadata": {
    "jupyter": {
     "source_hidden": true
    }
   },
   "outputs": [
    {
     "name": "stdout",
     "output_type": "stream",
     "text": [
      "\t\t      STEGANOGRAPHY\n",
      "\n",
      "\t\t\tMAIN MENU\n",
      "\n",
      "1. TEXT STEGANOGRAPHY {Hiding Text in Text cover file}\n",
      "2. IMAGE STEGANOGRAPHY {Hiding Text in Image cover file}\n",
      "3. AUDIO STEGANOGRAPHY {Hiding Text in Audio cover file}\n",
      "4. VIDEO STEGANOGRAPHY {Hiding Text in Video cover file}\n",
      "5. Exit\n",
      "\n"
     ]
    },
    {
     "name": "stdin",
     "output_type": "stream",
     "text": [
      "Enter the Choice:  4\n"
     ]
    },
    {
     "name": "stdout",
     "output_type": "stream",
     "text": [
      "Total number of Frame in selected Video : 172\n",
      "Enter the frame number where you want to embed data : \n"
     ]
    },
    {
     "name": "stdin",
     "output_type": "stream",
     "text": [
      " 2\n",
      "\n",
      "Enter the data to be Encoded in Video : Cyber secure india\n"
     ]
    },
    {
     "name": "stdout",
     "output_type": "stream",
     "text": [
      "Enter the key : \n"
     ]
    },
    {
     "name": "stdin",
     "output_type": "stream",
     "text": [
      " 12345\n"
     ]
    },
    {
     "name": "stdout",
     "output_type": "stream",
     "text": [
      "The encrypted data is :  \u0013LZ\u0007^>\n",
      "øV¦Õø\u000f¼r\u0007\n",
      "\n",
      "Encoded the data successfully in the video file.\n",
      "\n",
      "\t\tVIDEO STEGANOGRAPHY OPERATIONS\n",
      "1. Encode the Text message\n",
      "2. Decode the Text message\n",
      "3. Exit\n"
     ]
    },
    {
     "name": "stdin",
     "output_type": "stream",
     "text": [
      "Enter the Choice: 2\n"
     ]
    },
    {
     "name": "stdout",
     "output_type": "stream",
     "text": [
      "Total number of Frame in selected Video : 172\n",
      "Enter the secret frame number from where you want to extract data\n"
     ]
    },
    {
     "name": "stdin",
     "output_type": "stream",
     "text": [
      " 2\n"
     ]
    },
    {
     "name": "stdout",
     "output_type": "stream",
     "text": [
      "Enter the key : \n"
     ]
    },
    {
     "name": "stdin",
     "output_type": "stream",
     "text": [
      " 12345\n"
     ]
    },
    {
     "name": "stdout",
     "output_type": "stream",
     "text": [
      "\n",
      "\n",
      "The Encoded data which was hidden in the Video was :--\n",
      " Cyber secure india\n",
      "\n",
      "\n",
      "\n",
      "\t\tVIDEO STEGANOGRAPHY OPERATIONS\n",
      "1. Encode the Text message\n",
      "2. Decode the Text message\n",
      "3. Exit\n"
     ]
    }
   ],
   "source": [
    "if __name__ == \"__main__\":\n",
    "        main()"
   ]
  },
  {
   "cell_type": "code",
   "execution_count": null,
   "id": "72a1a013-093e-48e3-be64-3268ee8c274f",
   "metadata": {},
   "outputs": [],
   "source": [
    "1"
   ]
  }
 ],
 "metadata": {
  "kernelspec": {
   "display_name": "Python 3 (ipykernel)",
   "language": "python",
   "name": "python3"
  },
  "language_info": {
   "codemirror_mode": {
    "name": "ipython",
    "version": 3
   },
   "file_extension": ".py",
   "mimetype": "text/x-python",
   "name": "python",
   "nbconvert_exporter": "python",
   "pygments_lexer": "ipython3",
   "version": "3.12.3"
  }
 },
 "nbformat": 4,
 "nbformat_minor": 5
}
